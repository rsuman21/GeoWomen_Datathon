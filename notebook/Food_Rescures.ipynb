{
 "cells": [
  {
   "cell_type": "markdown",
   "metadata": {},
   "source": [
    "# <font color='#00008B'><u>GeoWomen Datathon</u></font>\n",
    "### The Food Rescuers\n",
    "Reducing food waste and shrinking hunger\n"
   ]
  },
  {
   "cell_type": "markdown",
   "metadata": {},
   "source": [
    "## Problem Statement\n",
    " \"Examining food waste in Calgary to identify optimal locations for community food pantries \n",
    "  to mitigate food insecurity. \""
   ]
  },
  {
   "cell_type": "markdown",
   "metadata": {},
   "source": [
    "## Loading Liberaries "
   ]
  },
  {
   "cell_type": "code",
   "execution_count": 1,
   "metadata": {},
   "outputs": [],
   "source": [
    "import pandas as pd\n",
    "import numpy as np\n",
    "from pandas import DataFrame as df\n",
    "%matplotlib inline\n",
    "import time\n",
    "import sys\n",
    "import csv\n",
    "import warnings\n",
    "warnings.filterwarnings('ignore')\n",
    "from datetime import datetime\n",
    "from ipywidgets import interact, interactive, fixed, interact_manual\n",
    "import ipywidgets as widgets\n",
    "import plotly.graph_objects as go\n",
    "import plotly.express as px\n",
    "import plotly as py\n",
    "import plotly.tools as tls\n",
    "import matplotlib.pyplot as plt"
   ]
  },
  {
   "cell_type": "markdown",
   "metadata": {},
   "source": [
    "## Loading CSV files"
   ]
  },
  {
   "cell_type": "code",
   "execution_count": 2,
   "metadata": {},
   "outputs": [],
   "source": [
    "#Loading csv file to dataframe\n",
    "food_data = pd.read_csv('Food_rescuers_data.csv') \n",
    "income_data = pd.read_csv('Low_Income_household.csv')\n",
    "pantry_data = pd.read_csv('Pantries_location.csv')"
   ]
  },
  {
   "cell_type": "code",
   "execution_count": 3,
   "metadata": {
    "scrolled": true
   },
   "outputs": [
    {
     "data": {
      "text/html": [
       "<div>\n",
       "<style scoped>\n",
       "    .dataframe tbody tr th:only-of-type {\n",
       "        vertical-align: middle;\n",
       "    }\n",
       "\n",
       "    .dataframe tbody tr th {\n",
       "        vertical-align: top;\n",
       "    }\n",
       "\n",
       "    .dataframe thead th {\n",
       "        text-align: right;\n",
       "    }\n",
       "</style>\n",
       "<table border=\"1\" class=\"dataframe\">\n",
       "  <thead>\n",
       "    <tr style=\"text-align: right;\">\n",
       "      <th></th>\n",
       "      <th>Timestamp</th>\n",
       "      <th>Are you eating food past their expiration dates more or less often since pandemic?</th>\n",
       "      <th>What do you think are the main reasons that food get wasted in your household?(select all that apply)</th>\n",
       "      <th>Select the option which best reflects what is happening in your household since the start of pandemic?</th>\n",
       "      <th>What are you doing differently since start of pandemic? (select all apply)</th>\n",
       "      <th>Ward</th>\n",
       "    </tr>\n",
       "  </thead>\n",
       "  <tbody>\n",
       "    <tr>\n",
       "      <th>0</th>\n",
       "      <td>2021/06/09 12:15:01 PM CDT</td>\n",
       "      <td>More often</td>\n",
       "      <td>We do not waste any food in our household</td>\n",
       "      <td>We are wasting less food in amount but not ove...</td>\n",
       "      <td>I am eating leftovers more often;I look in my ...</td>\n",
       "      <td>NaN</td>\n",
       "    </tr>\n",
       "    <tr>\n",
       "      <th>1</th>\n",
       "      <td>2021/06/09 12:17:09 PM CDT</td>\n",
       "      <td>About the same</td>\n",
       "      <td>Food goes bad before 'best before' date;We don...</td>\n",
       "      <td>We are wasting more food in amount</td>\n",
       "      <td>I have not change anything</td>\n",
       "      <td>NaN</td>\n",
       "    </tr>\n",
       "    <tr>\n",
       "      <th>2</th>\n",
       "      <td>2021/06/09 12:47:28 PM CDT</td>\n",
       "      <td>About the same</td>\n",
       "      <td>Food left in the fridge or freezer too long;We...</td>\n",
       "      <td>We are wasting less food, in amount and overal...</td>\n",
       "      <td>I look in my fridge and pantries more often</td>\n",
       "      <td>NaN</td>\n",
       "    </tr>\n",
       "    <tr>\n",
       "      <th>3</th>\n",
       "      <td>2021/06/09 12:47:50 PM CDT</td>\n",
       "      <td>About the same</td>\n",
       "      <td>Some household members do not finish their meals</td>\n",
       "      <td>We are wasting less food, in amount and overal...</td>\n",
       "      <td>I am eating leftovers more often;I am planning...</td>\n",
       "      <td>NaN</td>\n",
       "    </tr>\n",
       "    <tr>\n",
       "      <th>4</th>\n",
       "      <td>2021/06/09 12:52:28 PM CDT</td>\n",
       "      <td>More often</td>\n",
       "      <td>Food left in the fridge or freezer too long;We...</td>\n",
       "      <td>We are wasting less food in amount but not ove...</td>\n",
       "      <td>I look in my fridge and pantries more often</td>\n",
       "      <td>NaN</td>\n",
       "    </tr>\n",
       "  </tbody>\n",
       "</table>\n",
       "</div>"
      ],
      "text/plain": [
       "                    Timestamp  \\\n",
       "0  2021/06/09 12:15:01 PM CDT   \n",
       "1  2021/06/09 12:17:09 PM CDT   \n",
       "2  2021/06/09 12:47:28 PM CDT   \n",
       "3  2021/06/09 12:47:50 PM CDT   \n",
       "4  2021/06/09 12:52:28 PM CDT   \n",
       "\n",
       "  Are you eating food past their expiration dates more or less often since pandemic?  \\\n",
       "0                                         More often                                   \n",
       "1                                     About the same                                   \n",
       "2                                     About the same                                   \n",
       "3                                     About the same                                   \n",
       "4                                         More often                                   \n",
       "\n",
       "  What do you think are the main reasons that food get wasted in your household?(select all that apply)  \\\n",
       "0          We do not waste any food in our household                                                      \n",
       "1  Food goes bad before 'best before' date;We don...                                                      \n",
       "2  Food left in the fridge or freezer too long;We...                                                      \n",
       "3   Some household members do not finish their meals                                                      \n",
       "4  Food left in the fridge or freezer too long;We...                                                      \n",
       "\n",
       "  Select the option which best reflects what is happening in your household since the start of pandemic?  \\\n",
       "0  We are wasting less food in amount but not ove...                                                       \n",
       "1                 We are wasting more food in amount                                                       \n",
       "2  We are wasting less food, in amount and overal...                                                       \n",
       "3  We are wasting less food, in amount and overal...                                                       \n",
       "4  We are wasting less food in amount but not ove...                                                       \n",
       "\n",
       "  What are you doing differently since start of pandemic? (select all apply)  \\\n",
       "0  I am eating leftovers more often;I look in my ...                           \n",
       "1                         I have not change anything                           \n",
       "2        I look in my fridge and pantries more often                           \n",
       "3  I am eating leftovers more often;I am planning...                           \n",
       "4        I look in my fridge and pantries more often                           \n",
       "\n",
       "  Ward  \n",
       "0  NaN  \n",
       "1  NaN  \n",
       "2  NaN  \n",
       "3  NaN  \n",
       "4  NaN  "
      ]
     },
     "execution_count": 3,
     "metadata": {},
     "output_type": "execute_result"
    }
   ],
   "source": [
    "food_data.head()"
   ]
  },
  {
   "cell_type": "markdown",
   "metadata": {},
   "source": [
    "## Low income household percentage"
   ]
  },
  {
   "cell_type": "code",
   "execution_count": 4,
   "metadata": {},
   "outputs": [
    {
     "data": {
      "text/html": [
       "<div>\n",
       "<style scoped>\n",
       "    .dataframe tbody tr th:only-of-type {\n",
       "        vertical-align: middle;\n",
       "    }\n",
       "\n",
       "    .dataframe tbody tr th {\n",
       "        vertical-align: top;\n",
       "    }\n",
       "\n",
       "    .dataframe thead th {\n",
       "        text-align: right;\n",
       "    }\n",
       "</style>\n",
       "<table border=\"1\" class=\"dataframe\">\n",
       "  <thead>\n",
       "    <tr style=\"text-align: right;\">\n",
       "      <th></th>\n",
       "      <th>Ward</th>\n",
       "      <th>Total Household</th>\n",
       "      <th>UnderPovertyLine_households</th>\n",
       "      <th>Low_income_households</th>\n",
       "      <th>Percentage</th>\n",
       "    </tr>\n",
       "  </thead>\n",
       "  <tbody>\n",
       "    <tr>\n",
       "      <th>0</th>\n",
       "      <td>Ward 11</td>\n",
       "      <td>45465</td>\n",
       "      <td>3160</td>\n",
       "      <td>5555</td>\n",
       "      <td>12.218190</td>\n",
       "    </tr>\n",
       "    <tr>\n",
       "      <th>1</th>\n",
       "      <td>Ward 7</td>\n",
       "      <td>32245</td>\n",
       "      <td>3220</td>\n",
       "      <td>4910</td>\n",
       "      <td>15.227167</td>\n",
       "    </tr>\n",
       "    <tr>\n",
       "      <th>2</th>\n",
       "      <td>Ward 8</td>\n",
       "      <td>43975</td>\n",
       "      <td>4185</td>\n",
       "      <td>5985</td>\n",
       "      <td>13.610006</td>\n",
       "    </tr>\n",
       "    <tr>\n",
       "      <th>3</th>\n",
       "      <td>Ward 1</td>\n",
       "      <td>33570</td>\n",
       "      <td>1615</td>\n",
       "      <td>3025</td>\n",
       "      <td>9.011022</td>\n",
       "    </tr>\n",
       "    <tr>\n",
       "      <th>4</th>\n",
       "      <td>Ward 3</td>\n",
       "      <td>22670</td>\n",
       "      <td>770</td>\n",
       "      <td>1525</td>\n",
       "      <td>6.726952</td>\n",
       "    </tr>\n",
       "    <tr>\n",
       "      <th>5</th>\n",
       "      <td>Ward 12</td>\n",
       "      <td>34865</td>\n",
       "      <td>870</td>\n",
       "      <td>1725</td>\n",
       "      <td>4.947655</td>\n",
       "    </tr>\n",
       "    <tr>\n",
       "      <th>6</th>\n",
       "      <td>Ward 2</td>\n",
       "      <td>27355</td>\n",
       "      <td>865</td>\n",
       "      <td>1910</td>\n",
       "      <td>6.982270</td>\n",
       "    </tr>\n",
       "    <tr>\n",
       "      <th>7</th>\n",
       "      <td>Ward 4</td>\n",
       "      <td>38530</td>\n",
       "      <td>2310</td>\n",
       "      <td>4920</td>\n",
       "      <td>12.769271</td>\n",
       "    </tr>\n",
       "    <tr>\n",
       "      <th>8</th>\n",
       "      <td>Ward 14</td>\n",
       "      <td>31670</td>\n",
       "      <td>920</td>\n",
       "      <td>2080</td>\n",
       "      <td>6.567730</td>\n",
       "    </tr>\n",
       "    <tr>\n",
       "      <th>9</th>\n",
       "      <td>Ward 5</td>\n",
       "      <td>22560</td>\n",
       "      <td>790</td>\n",
       "      <td>2090</td>\n",
       "      <td>9.264184</td>\n",
       "    </tr>\n",
       "    <tr>\n",
       "      <th>10</th>\n",
       "      <td>Ward 10</td>\n",
       "      <td>30915</td>\n",
       "      <td>1690</td>\n",
       "      <td>4040</td>\n",
       "      <td>13.068090</td>\n",
       "    </tr>\n",
       "    <tr>\n",
       "      <th>11</th>\n",
       "      <td>Ward 9</td>\n",
       "      <td>37490</td>\n",
       "      <td>2950</td>\n",
       "      <td>6235</td>\n",
       "      <td>16.631102</td>\n",
       "    </tr>\n",
       "    <tr>\n",
       "      <th>12</th>\n",
       "      <td>Ward 13</td>\n",
       "      <td>32110</td>\n",
       "      <td>1215</td>\n",
       "      <td>2335</td>\n",
       "      <td>7.271878</td>\n",
       "    </tr>\n",
       "    <tr>\n",
       "      <th>13</th>\n",
       "      <td>Ward 6</td>\n",
       "      <td>33310</td>\n",
       "      <td>1475</td>\n",
       "      <td>2795</td>\n",
       "      <td>8.390874</td>\n",
       "    </tr>\n",
       "  </tbody>\n",
       "</table>\n",
       "</div>"
      ],
      "text/plain": [
       "        Ward  Total Household  UnderPovertyLine_households  \\\n",
       "0    Ward 11            45465                         3160   \n",
       "1     Ward 7            32245                         3220   \n",
       "2     Ward 8            43975                         4185   \n",
       "3     Ward 1            33570                         1615   \n",
       "4     Ward 3            22670                          770   \n",
       "5    Ward 12            34865                          870   \n",
       "6     Ward 2            27355                          865   \n",
       "7     Ward 4            38530                         2310   \n",
       "8    Ward 14            31670                          920   \n",
       "9     Ward 5            22560                          790   \n",
       "10  Ward 10             30915                         1690   \n",
       "11    Ward 9            37490                         2950   \n",
       "12   Ward 13            32110                         1215   \n",
       "13    Ward 6            33310                         1475   \n",
       "\n",
       "    Low_income_households  Percentage  \n",
       "0                    5555   12.218190  \n",
       "1                    4910   15.227167  \n",
       "2                    5985   13.610006  \n",
       "3                    3025    9.011022  \n",
       "4                    1525    6.726952  \n",
       "5                    1725    4.947655  \n",
       "6                    1910    6.982270  \n",
       "7                    4920   12.769271  \n",
       "8                    2080    6.567730  \n",
       "9                    2090    9.264184  \n",
       "10                   4040   13.068090  \n",
       "11                   6235   16.631102  \n",
       "12                   2335    7.271878  \n",
       "13                   2795    8.390874  "
      ]
     },
     "execution_count": 4,
     "metadata": {},
     "output_type": "execute_result"
    }
   ],
   "source": [
    "income_data['Percentage'] = (income_data['Low_income_households']/income_data['Total Household'])*100\n",
    "income_data"
   ]
  },
  {
   "cell_type": "code",
   "execution_count": 5,
   "metadata": {},
   "outputs": [],
   "source": [
    "query_low_income = income_data [income_data['Percentage']>10]"
   ]
  },
  {
   "cell_type": "markdown",
   "metadata": {},
   "source": [
    "## Proposed location of Pantries based on Low income households in Wards"
   ]
  },
  {
   "cell_type": "code",
   "execution_count": 6,
   "metadata": {},
   "outputs": [
    {
     "data": {
      "text/html": [
       "<div>\n",
       "<style scoped>\n",
       "    .dataframe tbody tr th:only-of-type {\n",
       "        vertical-align: middle;\n",
       "    }\n",
       "\n",
       "    .dataframe tbody tr th {\n",
       "        vertical-align: top;\n",
       "    }\n",
       "\n",
       "    .dataframe thead th {\n",
       "        text-align: right;\n",
       "    }\n",
       "</style>\n",
       "<table border=\"1\" class=\"dataframe\">\n",
       "  <thead>\n",
       "    <tr style=\"text-align: right;\">\n",
       "      <th></th>\n",
       "      <th>Ward</th>\n",
       "      <th>Total Household</th>\n",
       "      <th>UnderPovertyLine_households</th>\n",
       "      <th>Low_income_households</th>\n",
       "      <th>Percentage</th>\n",
       "    </tr>\n",
       "  </thead>\n",
       "  <tbody>\n",
       "    <tr>\n",
       "      <th>0</th>\n",
       "      <td>Ward 11</td>\n",
       "      <td>45465</td>\n",
       "      <td>3160</td>\n",
       "      <td>5555</td>\n",
       "      <td>12.218190</td>\n",
       "    </tr>\n",
       "    <tr>\n",
       "      <th>1</th>\n",
       "      <td>Ward 7</td>\n",
       "      <td>32245</td>\n",
       "      <td>3220</td>\n",
       "      <td>4910</td>\n",
       "      <td>15.227167</td>\n",
       "    </tr>\n",
       "    <tr>\n",
       "      <th>2</th>\n",
       "      <td>Ward 8</td>\n",
       "      <td>43975</td>\n",
       "      <td>4185</td>\n",
       "      <td>5985</td>\n",
       "      <td>13.610006</td>\n",
       "    </tr>\n",
       "    <tr>\n",
       "      <th>7</th>\n",
       "      <td>Ward 4</td>\n",
       "      <td>38530</td>\n",
       "      <td>2310</td>\n",
       "      <td>4920</td>\n",
       "      <td>12.769271</td>\n",
       "    </tr>\n",
       "    <tr>\n",
       "      <th>10</th>\n",
       "      <td>Ward 10</td>\n",
       "      <td>30915</td>\n",
       "      <td>1690</td>\n",
       "      <td>4040</td>\n",
       "      <td>13.068090</td>\n",
       "    </tr>\n",
       "    <tr>\n",
       "      <th>11</th>\n",
       "      <td>Ward 9</td>\n",
       "      <td>37490</td>\n",
       "      <td>2950</td>\n",
       "      <td>6235</td>\n",
       "      <td>16.631102</td>\n",
       "    </tr>\n",
       "  </tbody>\n",
       "</table>\n",
       "</div>"
      ],
      "text/plain": [
       "        Ward  Total Household  UnderPovertyLine_households  \\\n",
       "0    Ward 11            45465                         3160   \n",
       "1     Ward 7            32245                         3220   \n",
       "2     Ward 8            43975                         4185   \n",
       "7     Ward 4            38530                         2310   \n",
       "10  Ward 10             30915                         1690   \n",
       "11    Ward 9            37490                         2950   \n",
       "\n",
       "    Low_income_households  Percentage  \n",
       "0                    5555   12.218190  \n",
       "1                    4910   15.227167  \n",
       "2                    5985   13.610006  \n",
       "7                    4920   12.769271  \n",
       "10                   4040   13.068090  \n",
       "11                   6235   16.631102  "
      ]
     },
     "execution_count": 6,
     "metadata": {},
     "output_type": "execute_result"
    }
   ],
   "source": [
    "query_low_income"
   ]
  },
  {
   "cell_type": "markdown",
   "metadata": {},
   "source": [
    "## Current locations of Pantries"
   ]
  },
  {
   "cell_type": "code",
   "execution_count": 20,
   "metadata": {},
   "outputs": [
    {
     "data": {
      "text/html": [
       "<div>\n",
       "<style scoped>\n",
       "    .dataframe tbody tr th:only-of-type {\n",
       "        vertical-align: middle;\n",
       "    }\n",
       "\n",
       "    .dataframe tbody tr th {\n",
       "        vertical-align: top;\n",
       "    }\n",
       "\n",
       "    .dataframe thead th {\n",
       "        text-align: right;\n",
       "    }\n",
       "</style>\n",
       "<table border=\"1\" class=\"dataframe\">\n",
       "  <thead>\n",
       "    <tr style=\"text-align: right;\">\n",
       "      <th></th>\n",
       "      <th>Pantries</th>\n",
       "      <th>Address</th>\n",
       "      <th>Lat</th>\n",
       "      <th>Long</th>\n",
       "      <th>Ward</th>\n",
       "    </tr>\n",
       "  </thead>\n",
       "  <tbody>\n",
       "    <tr>\n",
       "      <th>0</th>\n",
       "      <td>Deer Park United Church Food Pantry</td>\n",
       "      <td>77 Deerpoint Rd SE</td>\n",
       "      <td>50.926620</td>\n",
       "      <td>-114.028070</td>\n",
       "      <td>Ward 14</td>\n",
       "    </tr>\n",
       "    <tr>\n",
       "      <th>1</th>\n",
       "      <td>Abbeydale Christian Fellowship Community Cupboard</td>\n",
       "      <td>1352 Abbeydale Drive SE</td>\n",
       "      <td>51.051312</td>\n",
       "      <td>-113.930226</td>\n",
       "      <td>Ward 9</td>\n",
       "    </tr>\n",
       "    <tr>\n",
       "      <th>2</th>\n",
       "      <td>Bonavista Church Food Pantry</td>\n",
       "      <td>1509 Lake Ontario Drive SE</td>\n",
       "      <td>50.942383</td>\n",
       "      <td>-114.034286</td>\n",
       "      <td>Ward 14</td>\n",
       "    </tr>\n",
       "    <tr>\n",
       "      <th>3</th>\n",
       "      <td>Victory Foundation Eastside Victory Outreach</td>\n",
       "      <td>1840 – 38 Street SE</td>\n",
       "      <td>51.036663</td>\n",
       "      <td>-113.978275</td>\n",
       "      <td>Ward 9</td>\n",
       "    </tr>\n",
       "    <tr>\n",
       "      <th>4</th>\n",
       "      <td>West Central Community Resource Centre</td>\n",
       "      <td>3507A – 17 Avenue SW</td>\n",
       "      <td>51.037682</td>\n",
       "      <td>-114.137365</td>\n",
       "      <td>Ward 8</td>\n",
       "    </tr>\n",
       "    <tr>\n",
       "      <th>5</th>\n",
       "      <td>Coventry Hills Little Free Pantry Initiative</td>\n",
       "      <td>90 Covepark Sq NE</td>\n",
       "      <td>51.166068</td>\n",
       "      <td>-114.059481</td>\n",
       "      <td>Ward 3</td>\n",
       "    </tr>\n",
       "    <tr>\n",
       "      <th>6</th>\n",
       "      <td>Falconridge Free food pantry</td>\n",
       "      <td>3 Falworth Pl NE, Calgary, AB T3J 1G1</td>\n",
       "      <td>51.100020</td>\n",
       "      <td>-113.950353</td>\n",
       "      <td>Ward 4</td>\n",
       "    </tr>\n",
       "    <tr>\n",
       "      <th>7</th>\n",
       "      <td>Abbeydale Little Free Pantry</td>\n",
       "      <td>57 Aberdare Rd NE Calgary, Alberta T2A 6V8</td>\n",
       "      <td>51.054933</td>\n",
       "      <td>-113.924408</td>\n",
       "      <td>Ward 9</td>\n",
       "    </tr>\n",
       "    <tr>\n",
       "      <th>8</th>\n",
       "      <td>Crescent heights community fridge</td>\n",
       "      <td>902 Centre St N, Calgary, AB T2E 2P7</td>\n",
       "      <td>51.060114</td>\n",
       "      <td>-114.062289</td>\n",
       "      <td>Ward 7</td>\n",
       "    </tr>\n",
       "    <tr>\n",
       "      <th>9</th>\n",
       "      <td>Robert McClure United Church Food Pantry</td>\n",
       "      <td>5510 -26 Avenue NE</td>\n",
       "      <td>51.077585</td>\n",
       "      <td>-113.954876</td>\n",
       "      <td>Ward 10</td>\n",
       "    </tr>\n",
       "  </tbody>\n",
       "</table>\n",
       "</div>"
      ],
      "text/plain": [
       "                                            Pantries  \\\n",
       "0                Deer Park United Church Food Pantry   \n",
       "1  Abbeydale Christian Fellowship Community Cupboard   \n",
       "2                       Bonavista Church Food Pantry   \n",
       "3       Victory Foundation Eastside Victory Outreach   \n",
       "4             West Central Community Resource Centre   \n",
       "5       Coventry Hills Little Free Pantry Initiative   \n",
       "6                      Falconridge Free food pantry    \n",
       "7                       Abbeydale Little Free Pantry   \n",
       "8                  Crescent heights community fridge   \n",
       "9           Robert McClure United Church Food Pantry   \n",
       "\n",
       "                                      Address        Lat        Long     Ward  \n",
       "0                         77 Deerpoint Rd SE   50.926620 -114.028070  Ward 14  \n",
       "1                     1352 Abbeydale Drive SE  51.051312 -113.930226   Ward 9  \n",
       "2                 1509 Lake Ontario Drive SE   50.942383 -114.034286  Ward 14  \n",
       "3                         1840 – 38 Street SE  51.036663 -113.978275   Ward 9  \n",
       "4                        3507A – 17 Avenue SW  51.037682 -114.137365   Ward 8  \n",
       "5                           90 Covepark Sq NE  51.166068 -114.059481   Ward 3  \n",
       "6      3 Falworth Pl NE, Calgary, AB T3J 1G1   51.100020 -113.950353   Ward 4  \n",
       "7  57 Aberdare Rd NE Calgary, Alberta T2A 6V8  51.054933 -113.924408   Ward 9  \n",
       "8        902 Centre St N, Calgary, AB T2E 2P7  51.060114 -114.062289   Ward 7  \n",
       "9                          5510 -26 Avenue NE  51.077585 -113.954876  Ward 10  "
      ]
     },
     "execution_count": 20,
     "metadata": {},
     "output_type": "execute_result"
    }
   ],
   "source": [
    "pantry_data"
   ]
  },
  {
   "cell_type": "markdown",
   "metadata": {},
   "source": [
    "# Merging the wards data to survey data"
   ]
  },
  {
   "cell_type": "code",
   "execution_count": 8,
   "metadata": {},
   "outputs": [
    {
     "data": {
      "text/plain": [
       "(23, 10)"
      ]
     },
     "execution_count": 8,
     "metadata": {},
     "output_type": "execute_result"
    }
   ],
   "source": [
    "merge_data = food_data.merge(query_low_income, on='Ward')\n",
    "merge_data.shape"
   ]
  },
  {
   "cell_type": "markdown",
   "metadata": {},
   "source": [
    "## Joining the dataset with the existing pantries"
   ]
  },
  {
   "cell_type": "code",
   "execution_count": 9,
   "metadata": {},
   "outputs": [],
   "source": [
    "merge_data = pd.merge( merge_data, pantry_data, how=\"outer\", on=[\"Ward\"])"
   ]
  },
  {
   "cell_type": "code",
   "execution_count": 10,
   "metadata": {},
   "outputs": [
    {
     "data": {
      "text/html": [
       "<div>\n",
       "<style scoped>\n",
       "    .dataframe tbody tr th:only-of-type {\n",
       "        vertical-align: middle;\n",
       "    }\n",
       "\n",
       "    .dataframe tbody tr th {\n",
       "        vertical-align: top;\n",
       "    }\n",
       "\n",
       "    .dataframe thead th {\n",
       "        text-align: right;\n",
       "    }\n",
       "</style>\n",
       "<table border=\"1\" class=\"dataframe\">\n",
       "  <thead>\n",
       "    <tr style=\"text-align: right;\">\n",
       "      <th></th>\n",
       "      <th>Timestamp</th>\n",
       "      <th>Are you eating food past their expiration dates more or less often since pandemic?</th>\n",
       "      <th>What do you think are the main reasons that food get wasted in your household?(select all that apply)</th>\n",
       "      <th>Select the option which best reflects what is happening in your household since the start of pandemic?</th>\n",
       "      <th>What are you doing differently since start of pandemic? (select all apply)</th>\n",
       "      <th>Ward</th>\n",
       "      <th>Total Household</th>\n",
       "      <th>UnderPovertyLine_households</th>\n",
       "      <th>Low_income_households</th>\n",
       "      <th>Percentage</th>\n",
       "      <th>Pantries</th>\n",
       "      <th>Address</th>\n",
       "      <th>Lat</th>\n",
       "      <th>Long</th>\n",
       "    </tr>\n",
       "  </thead>\n",
       "  <tbody>\n",
       "    <tr>\n",
       "      <th>26</th>\n",
       "      <td>2021/06/10 10:05:39 AM CDT</td>\n",
       "      <td>About the same</td>\n",
       "      <td>Food left in the fridge or freezer too long</td>\n",
       "      <td>We are wasting less food, in amount and overal...</td>\n",
       "      <td>I am using more produce</td>\n",
       "      <td>Ward 9</td>\n",
       "      <td>37490.0</td>\n",
       "      <td>2950.0</td>\n",
       "      <td>6235.0</td>\n",
       "      <td>16.631102</td>\n",
       "      <td>Abbeydale Little Free Pantry</td>\n",
       "      <td>57 Aberdare Rd NE Calgary, Alberta T2A 6V8</td>\n",
       "      <td>51.054933</td>\n",
       "      <td>-113.924408</td>\n",
       "    </tr>\n",
       "    <tr>\n",
       "      <th>27</th>\n",
       "      <td>NaN</td>\n",
       "      <td>NaN</td>\n",
       "      <td>NaN</td>\n",
       "      <td>NaN</td>\n",
       "      <td>NaN</td>\n",
       "      <td>Ward 14</td>\n",
       "      <td>NaN</td>\n",
       "      <td>NaN</td>\n",
       "      <td>NaN</td>\n",
       "      <td>NaN</td>\n",
       "      <td>Deer Park United Church Food Pantry</td>\n",
       "      <td>77 Deerpoint Rd SE</td>\n",
       "      <td>50.926620</td>\n",
       "      <td>-114.028070</td>\n",
       "    </tr>\n",
       "    <tr>\n",
       "      <th>28</th>\n",
       "      <td>NaN</td>\n",
       "      <td>NaN</td>\n",
       "      <td>NaN</td>\n",
       "      <td>NaN</td>\n",
       "      <td>NaN</td>\n",
       "      <td>Ward 14</td>\n",
       "      <td>NaN</td>\n",
       "      <td>NaN</td>\n",
       "      <td>NaN</td>\n",
       "      <td>NaN</td>\n",
       "      <td>Bonavista Church Food Pantry</td>\n",
       "      <td>1509 Lake Ontario Drive SE</td>\n",
       "      <td>50.942383</td>\n",
       "      <td>-114.034286</td>\n",
       "    </tr>\n",
       "    <tr>\n",
       "      <th>29</th>\n",
       "      <td>NaN</td>\n",
       "      <td>NaN</td>\n",
       "      <td>NaN</td>\n",
       "      <td>NaN</td>\n",
       "      <td>NaN</td>\n",
       "      <td>Ward 3</td>\n",
       "      <td>NaN</td>\n",
       "      <td>NaN</td>\n",
       "      <td>NaN</td>\n",
       "      <td>NaN</td>\n",
       "      <td>Coventry Hills Little Free Pantry Initiative</td>\n",
       "      <td>90 Covepark Sq NE</td>\n",
       "      <td>51.166068</td>\n",
       "      <td>-114.059481</td>\n",
       "    </tr>\n",
       "    <tr>\n",
       "      <th>30</th>\n",
       "      <td>NaN</td>\n",
       "      <td>NaN</td>\n",
       "      <td>NaN</td>\n",
       "      <td>NaN</td>\n",
       "      <td>NaN</td>\n",
       "      <td>Ward 10</td>\n",
       "      <td>NaN</td>\n",
       "      <td>NaN</td>\n",
       "      <td>NaN</td>\n",
       "      <td>NaN</td>\n",
       "      <td>Robert McClure United Church Food Pantry</td>\n",
       "      <td>5510 -26 Avenue NE</td>\n",
       "      <td>51.077585</td>\n",
       "      <td>-113.954876</td>\n",
       "    </tr>\n",
       "  </tbody>\n",
       "</table>\n",
       "</div>"
      ],
      "text/plain": [
       "                     Timestamp  \\\n",
       "26  2021/06/10 10:05:39 AM CDT   \n",
       "27                         NaN   \n",
       "28                         NaN   \n",
       "29                         NaN   \n",
       "30                         NaN   \n",
       "\n",
       "   Are you eating food past their expiration dates more or less often since pandemic?  \\\n",
       "26                                     About the same                                   \n",
       "27                                                NaN                                   \n",
       "28                                                NaN                                   \n",
       "29                                                NaN                                   \n",
       "30                                                NaN                                   \n",
       "\n",
       "   What do you think are the main reasons that food get wasted in your household?(select all that apply)  \\\n",
       "26        Food left in the fridge or freezer too long                                                      \n",
       "27                                                NaN                                                      \n",
       "28                                                NaN                                                      \n",
       "29                                                NaN                                                      \n",
       "30                                                NaN                                                      \n",
       "\n",
       "   Select the option which best reflects what is happening in your household since the start of pandemic?  \\\n",
       "26  We are wasting less food, in amount and overal...                                                       \n",
       "27                                                NaN                                                       \n",
       "28                                                NaN                                                       \n",
       "29                                                NaN                                                       \n",
       "30                                                NaN                                                       \n",
       "\n",
       "   What are you doing differently since start of pandemic? (select all apply)  \\\n",
       "26                            I am using more produce                           \n",
       "27                                                NaN                           \n",
       "28                                                NaN                           \n",
       "29                                                NaN                           \n",
       "30                                                NaN                           \n",
       "\n",
       "       Ward  Total Household  UnderPovertyLine_households  \\\n",
       "26   Ward 9          37490.0                       2950.0   \n",
       "27  Ward 14              NaN                          NaN   \n",
       "28  Ward 14              NaN                          NaN   \n",
       "29   Ward 3              NaN                          NaN   \n",
       "30  Ward 10              NaN                          NaN   \n",
       "\n",
       "    Low_income_households  Percentage  \\\n",
       "26                 6235.0   16.631102   \n",
       "27                    NaN         NaN   \n",
       "28                    NaN         NaN   \n",
       "29                    NaN         NaN   \n",
       "30                    NaN         NaN   \n",
       "\n",
       "                                        Pantries  \\\n",
       "26                  Abbeydale Little Free Pantry   \n",
       "27           Deer Park United Church Food Pantry   \n",
       "28                  Bonavista Church Food Pantry   \n",
       "29  Coventry Hills Little Free Pantry Initiative   \n",
       "30      Robert McClure United Church Food Pantry   \n",
       "\n",
       "                                       Address        Lat        Long  \n",
       "26  57 Aberdare Rd NE Calgary, Alberta T2A 6V8  51.054933 -113.924408  \n",
       "27                         77 Deerpoint Rd SE   50.926620 -114.028070  \n",
       "28                 1509 Lake Ontario Drive SE   50.942383 -114.034286  \n",
       "29                           90 Covepark Sq NE  51.166068 -114.059481  \n",
       "30                          5510 -26 Avenue NE  51.077585 -113.954876  "
      ]
     },
     "execution_count": 10,
     "metadata": {},
     "output_type": "execute_result"
    }
   ],
   "source": [
    "merge_data.tail()"
   ]
  },
  {
   "cell_type": "code",
   "execution_count": 11,
   "metadata": {},
   "outputs": [
    {
     "data": {
      "text/plain": [
       "(31, 14)"
      ]
     },
     "execution_count": 11,
     "metadata": {},
     "output_type": "execute_result"
    }
   ],
   "source": [
    "merge_data.shape"
   ]
  },
  {
   "cell_type": "code",
   "execution_count": 12,
   "metadata": {},
   "outputs": [],
   "source": [
    "merge_data.to_csv('Merged_data.csv', index=False)"
   ]
  },
  {
   "cell_type": "code",
   "execution_count": 13,
   "metadata": {},
   "outputs": [],
   "source": [
    "#merge_data['Low_income'] = merge_data['Low_income'].astype(float)"
   ]
  },
  {
   "cell_type": "code",
   "execution_count": 14,
   "metadata": {},
   "outputs": [],
   "source": [
    "import sys\n",
    "from wordcloud import WordCloud, STOPWORDS\n",
    "stopwords = set(STOPWORDS)\n"
   ]
  },
  {
   "cell_type": "code",
   "execution_count": 15,
   "metadata": {},
   "outputs": [],
   "source": [
    "merge_data.rename(columns = {'Are you eating food past their expiration dates more or less often since pandemic?':'Food_Expiration_sense'}, inplace = True)\n",
    "merge_data.rename(columns = {'What do you think are the main reasons that food get wasted in your household?(select all that apply)':'Reason_for_waste'}, inplace = True)\n",
    "merge_data.rename(columns = {'What are you doing differently since start of pandemic? (select all apply)':'Behavioural_changes'}, inplace = True)"
   ]
  },
  {
   "cell_type": "code",
   "execution_count": 16,
   "metadata": {},
   "outputs": [],
   "source": [
    "text1 = \" \".join(review for review in merge_data['Food_Expiration_sense'].astype(str))\n",
    "text2 = \" \".join(review for review in merge_data['Reason_for_waste'].astype(str))\n",
    "text3 = \" \".join(review for review in merge_data['Behavioural_changes'].astype(str))"
   ]
  },
  {
   "cell_type": "markdown",
   "metadata": {},
   "source": [
    "## Food Expiration date sense"
   ]
  },
  {
   "cell_type": "code",
   "execution_count": 30,
   "metadata": {},
   "outputs": [
    {
     "data": {
      "image/png": "[encoded data removed]",
      "text/plain": [
       "<Figure size 432x288 with 1 Axes>"
      ]
     },
     "metadata": {
      "needs_background": "light"
     },
     "output_type": "display_data"
    }
   ],
   "source": [
    "wordcloud = WordCloud(stopwords=stopwords, max_font_size=50, max_words=100, background_color=\"white\").generate(text1)\n",
    "plt.figure()\n",
    "plt.imshow(wordcloud, interpolation=\"bilinear\")\n",
    "plt.axis(\"off\")\n",
    "plt.show()"
   ]
  },
  {
   "cell_type": "markdown",
   "metadata": {},
   "source": [
    "## Reason for waste"
   ]
  },
  {
   "cell_type": "code",
   "execution_count": 28,
   "metadata": {},
   "outputs": [
    {
     "data": {
      "image/png": "[encoded data removed]",
      "text/plain": [
       "<Figure size 432x288 with 1 Axes>"
      ]
     },
     "metadata": {
      "needs_background": "light"
     },
     "output_type": "display_data"
    }
   ],
   "source": [
    "wordcloud = WordCloud(stopwords=stopwords, max_font_size=50, max_words=100, background_color=\"white\").generate(text2)\n",
    "plt.figure()\n",
    "plt.imshow(wordcloud, interpolation=\"bilinear\")\n",
    "plt.axis(\"off\")\n",
    "plt.show()"
   ]
  },
  {
   "cell_type": "markdown",
   "metadata": {},
   "source": [
    "## Food Behaviour changes"
   ]
  },
  {
   "cell_type": "code",
   "execution_count": 24,
   "metadata": {},
   "outputs": [
    {
     "data": {
      "image/png": "[encoded data removed]",
      "text/plain": [
       "<Figure size 432x288 with 1 Axes>"
      ]
     },
     "metadata": {
      "needs_background": "light"
     },
     "output_type": "display_data"
    }
   ],
   "source": [
    "wordcloud = WordCloud(stopwords=stopwords, max_font_size=50, max_words=100, background_color=\"white\").generate(text3)\n",
    "plt.figure()\n",
    "plt.imshow(wordcloud, interpolation=\"bilinear\")\n",
    "plt.axis(\"off\")\n",
    "plt.show()"
   ]
  },
  {
   "cell_type": "code",
   "execution_count": null,
   "metadata": {},
   "outputs": [],
   "source": []
  },
  {
   "cell_type": "code",
   "execution_count": null,
   "metadata": {},
   "outputs": [],
   "source": []
  }
 ],
 "metadata": {
  "kernelspec": {
   "display_name": "Python 3",
   "language": "python",
   "name": "python3"
  },
  "language_info": {
   "codemirror_mode": {
    "name": "ipython",
    "version": 3
   },
   "file_extension": ".py",
   "mimetype": "text/x-python",
   "name": "python",
   "nbconvert_exporter": "python",
   "pygments_lexer": "ipython3",
   "version": "3.7.5"
  }
 },
 "nbformat": 4,
 "nbformat_minor": 2
}
